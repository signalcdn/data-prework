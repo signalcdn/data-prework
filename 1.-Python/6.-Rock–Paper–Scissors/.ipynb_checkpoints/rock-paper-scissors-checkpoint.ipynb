{
 "cells": [
  {
   "cell_type": "markdown",
   "metadata": {},
   "source": [
    "<img src=\"https://bit.ly/2VnXWr2\" width=\"100\" align=\"left\">"
   ]
  },
  {
   "cell_type": "markdown",
   "metadata": {},
   "source": [
    "# Rock, Paper & Scissors\n",
    "\n",
    "Let's play the famous game against our computer. You can check the rules [here](https://en.wikipedia.org/wiki/Rock%E2%80%93paper%E2%80%93scissors). \n",
    "\n",
    "## Task\n",
    "Create a program that imitates the playability of the well known game of rock, paper, scissors. Follow the guidelines provided.\n",
    "\n",
    "## Tools\n",
    "1. Loop: **for/while**\n",
    "2. Functions: **input(), print()...**\n",
    "3. Conditional statements: **if, elif, else**\n",
    "4. Definition of functions. Modular programming\n",
    "5. Import modules\n",
    "\n",
    "**To solve this challenge, the use of functions is recommended.**\n",
    "\n",
    "#### 1. Import the choice function of the random module."
   ]
  },
  {
   "cell_type": "code",
   "execution_count": null,
   "metadata": {},
   "outputs": [],
   "source": [
    "import random"
   ]
  },
  {
   "cell_type": "markdown",
   "metadata": {},
   "source": [
    "#### 2. Create a list that includes the 3 possible gesture options of the game: 'rock', 'paper' or 'scissors'. Store the list in a variable called `gestures`."
   ]
  },
  {
   "cell_type": "code",
   "execution_count": 2,
   "metadata": {},
   "outputs": [],
   "source": [
    "gestures = ['Rock', 'Paper', 'Scissors']"
   ]
  },
  {
   "cell_type": "markdown",
   "metadata": {},
   "source": [
    "#### 3. Create a variable called `n_rounds` to store the maximum number of rounds to play in a game. \n",
    "Remember that the number of rounds must be odd: 1, 3, 5, ..."
   ]
  },
  {
   "cell_type": "code",
   "execution_count": 3,
   "metadata": {},
   "outputs": [],
   "source": [
    "# Determines Series Length\n",
    "n_rounds = 0\n"
   ]
  },
  {
   "cell_type": "markdown",
   "metadata": {},
   "source": [
    "#### 4. Create a variable called `rounds_to_win` to store the number of rounds that a player must win to win the game.\n",
    "**Hint**: the value stored in `rounds_to_win` depends on the value of `n_rounds`. "
   ]
  },
  {
   "cell_type": "code",
   "execution_count": 4,
   "metadata": {},
   "outputs": [
    {
     "name": "stdout",
     "output_type": "stream",
     "text": [
      "0\n"
     ]
    }
   ],
   "source": [
    "#Best-of Win Condition = (n+1)/2\n",
    "\n",
    "rounds_to_win = int((n_rounds+1) / 2)\n",
    "\n",
    "print(rounds_to_win)"
   ]
  },
  {
   "cell_type": "markdown",
   "metadata": {},
   "source": [
    "#### 5. Create two variables to store the number of rounds that the computer and the player have won. Call these variables `cpu_score` and `player_score`."
   ]
  },
  {
   "cell_type": "code",
   "execution_count": 5,
   "metadata": {},
   "outputs": [],
   "source": [
    "cpu_score = 0\n",
    "player_score = 0"
   ]
  },
  {
   "cell_type": "markdown",
   "metadata": {},
   "source": [
    "#### 6. Define a function that randomly returns one of the 3 gesture options.\n",
    "You will use this function to simulate the gesture choice of the computer. "
   ]
  },
  {
   "cell_type": "code",
   "execution_count": 6,
   "metadata": {},
   "outputs": [
    {
     "name": "stdout",
     "output_type": "stream",
     "text": [
      "Scissors\n"
     ]
    }
   ],
   "source": [
    "cpu_gesture = random.choice(gestures)\n",
    "\n",
    "print(cpu_gesture)"
   ]
  },
  {
   "cell_type": "markdown",
   "metadata": {},
   "source": [
    "#### 7. Define a function that asks the player which is the gesture he or she wants to show: 'rock', 'paper' or 'scissors'.\n",
    "The player should only be allowed to choose one of the 3 gesture options. If the player's choice is not rock, paper or scissors, keep asking until it is."
   ]
  },
  {
   "cell_type": "code",
   "execution_count": 9,
   "metadata": {},
   "outputs": [
    {
     "name": "stdout",
     "output_type": "stream",
     "text": [
      "Please enter your gesture - Rock, Paper, or Scissors:Scissors\n"
     ]
    }
   ],
   "source": [
    "#Create prompt asking for Player's Inputs - skipping adding a check for whether a gesture is in the list or not\n",
    "player_gesture = str(input(\"Please enter your gesture - Rock, Paper, or Scissors:\"))     \n",
    "\n",
    "\n"
   ]
  },
  {
   "cell_type": "markdown",
   "metadata": {},
   "source": [
    "#### 8. Define a function that checks who won a round. \n",
    "The function should return 0 if there is a tie, 1 if the computer wins and 2 if the player wins."
   ]
  },
  {
   "cell_type": "code",
   "execution_count": 10,
   "metadata": {},
   "outputs": [],
   "source": [
    "def roundCheck():\n",
    "    winner = 0\n",
    "    \n",
    "    if (player_gesture) == (cpu_gesture):\n",
    "        winner = 0\n",
    "        \n",
    "    #Defining Player Wins  \n",
    "    elif player_gesture == 'Rock' and cpu_gesture == 'Scissors':\n",
    "        winner = 2\n",
    "        \n",
    "        \n",
    "    elif player_gesture == 'Paper' and cpu_gesture == 'Rock':\n",
    "        winner = 2\n",
    "        \n",
    "    \n",
    "    elif player_gesture == 'Scissors' and cpu_gesture == 'Paper':\n",
    "        winner = 2\n",
    "        \n",
    "    \n",
    "    #CPU Wins\n",
    "    else: \n",
    "        winner = 1\n",
    "        \n",
    "    \n",
    "    return (winner)\n"
   ]
  },
  {
   "cell_type": "markdown",
   "metadata": {},
   "source": [
    "#### 9. Define a function that prints the choice of the computer, the choice of the player and a message that announces who won the current round. \n",
    "You should also use this function to update the variables that count the number of rounds that the computer and the player have won. The score of the winner increases by one point. If there is a tie, the score does not increase."
   ]
  },
  {
   "cell_type": "code",
   "execution_count": 11,
   "metadata": {},
   "outputs": [
    {
     "name": "stdout",
     "output_type": "stream",
     "text": [
      "Player Gesture:  Scissors\n",
      "CPU Gesture:  Scissors\n",
      "Tie!\n"
     ]
    }
   ],
   "source": [
    "def roundOutcome():\n",
    "    print (\"Player Gesture: \", player_gesture)\n",
    "    print (\"CPU Gesture: \", cpu_gesture)\n",
    "    \n",
    "    winner = roundCheck()\n",
    "    \n",
    "    if winner == 1:\n",
    "        print (\"CPU Wins!\")\n",
    "        \n",
    "    elif winner == 2:\n",
    "        print(\"Player Wins!\")\n",
    "    \n",
    "    else: \n",
    "        print (\"Tie!\")\n",
    "       \n",
    "roundOutcome()"
   ]
  },
  {
   "cell_type": "markdown",
   "metadata": {},
   "source": [
    "#### 10. Now it's time to code the execution of the game using the functions and variables you defined above. \n",
    "\n",
    "First, create a loop structure that repeats while no player reaches the minimum score necessary to win and the number of rounds is less than the maximum number of rounds to play in a game.  \n",
    "\n",
    "Inside the loop, use the functions and variables above to create the execution of a round: ask for the player's choice, generate the random choice of the computer, show the round results, update the scores, etc. "
   ]
  },
  {
   "cell_type": "code",
   "execution_count": 12,
   "metadata": {},
   "outputs": [
    {
     "name": "stdout",
     "output_type": "stream",
     "text": [
      "How many Rounds would you like to play?7\n",
      "Please enter your gesture - Rock, Paper, or Scissors:Rock\n",
      "Player Gesture:  Rock\n",
      "CPU Gesture:  Rock\n",
      "Tie!\n",
      "Player Score: 0\n",
      "CPU Score: 0\n",
      "Current Round: 2\n",
      "Rounds to Win: 4\n",
      "Please enter your gesture - Rock, Paper, or Scissors:Paper\n",
      "Player Gesture:  Paper\n",
      "CPU Gesture:  Rock\n",
      "Player Wins!\n",
      "Player Score: 1\n",
      "CPU Score: 0\n",
      "Current Round: 3\n",
      "Rounds to Win: 4\n",
      "Please enter your gesture - Rock, Paper, or Scissors:Scissors\n",
      "Player Gesture:  Scissors\n",
      "CPU Gesture:  Scissors\n",
      "Tie!\n",
      "Player Score: 1\n",
      "CPU Score: 0\n",
      "Current Round: 4\n",
      "Rounds to Win: 4\n",
      "Please enter your gesture - Rock, Paper, or Scissors:Rock\n",
      "Player Gesture:  Rock\n",
      "CPU Gesture:  Rock\n",
      "Tie!\n",
      "Player Score: 1\n",
      "CPU Score: 0\n",
      "Current Round: 5\n",
      "Rounds to Win: 4\n",
      "Please enter your gesture - Rock, Paper, or Scissors:Paper\n",
      "Player Gesture:  Paper\n",
      "CPU Gesture:  Paper\n",
      "Tie!\n",
      "Player Score: 1\n",
      "CPU Score: 0\n",
      "Current Round: 6\n",
      "Rounds to Win: 4\n",
      "Please enter your gesture - Rock, Paper, or Scissors:Scissors\n",
      "Player Gesture:  Scissors\n",
      "CPU Gesture:  Paper\n",
      "Player Wins!\n",
      "Player Score: 2\n",
      "CPU Score: 0\n",
      "Current Round: 7\n",
      "Rounds to Win: 4\n",
      "Please enter your gesture - Rock, Paper, or Scissors:Rock\n",
      "Player Gesture:  Rock\n",
      "CPU Gesture:  Paper\n",
      "CPU Wins!\n",
      "Player Score: 2\n",
      "CPU Score: 1\n",
      "Current Round: 8\n",
      "Rounds to Win: 4\n"
     ]
    }
   ],
   "source": [
    "n_rounds = int(input(\"How many Rounds would you like to play?\"))\n",
    "current_round = 0\n",
    "player_score = 0\n",
    "cpu_score = 0\n",
    "rounds_to_win = int((n_rounds+1) / 2)\n",
    "\n",
    "#Start Round\n",
    "current_round +=1\n",
    "\n",
    "#Set While Loop for while player or CPU Score does not exceed rounds to win\n",
    "while current_round <= n_rounds:\n",
    "    \n",
    "    player_gesture = str(input(\"Please enter your gesture - Rock, Paper, or Scissors:\"))\n",
    "    cpu_gesture = random.choice(gestures)\n",
    "    \n",
    "    winner = roundCheck()\n",
    "    \n",
    "    if winner == 1:\n",
    "        cpu_score +=1\n",
    "        current_round +=1\n",
    "        \n",
    "    elif winner == 2:\n",
    "        player_score +=1\n",
    "        current_round +=1    \n",
    "            \n",
    "    else: \n",
    "        current_round +=1\n",
    "        \n",
    "    roundOutcome()\n",
    "    \n",
    "    print(\"Player Score:\", player_score)\n",
    "    print(\"CPU Score:\", cpu_score)\n",
    "    print(\"Current Round:\", current_round)\n",
    "    print(\"Rounds to Win:\", rounds_to_win)\n",
    "    \n",
    "\n",
    "    \n",
    "    \n",
    "        "
   ]
  },
  {
   "cell_type": "markdown",
   "metadata": {},
   "source": [
    "#### 11. Print the winner of the game based on who won more rounds.\n",
    "Remember that the game might be tied. "
   ]
  },
  {
   "cell_type": "code",
   "execution_count": null,
   "metadata": {},
   "outputs": [],
   "source": [
    "def printWinner():\n",
    "    if player_score > cpu_score:\n",
    "        print (\"Player Wins!!!!!\")\n",
    "    elif player_score == cpu_score:\n",
    "        print (\"Tie!!!!\")\n",
    "    else:\n",
    "        print (\"CPU Wins :( :( :( \")\n",
    "        \n",
    "printWinner()"
   ]
  },
  {
   "cell_type": "markdown",
   "metadata": {},
   "source": [
    "# Bonus: Rock, Paper, Scissors, Lizard & Spock\n",
    "![](images/rpsls.jpg)\n",
    "\n",
    "In this challenge, you need to improve the previous game by adding two new options. To know more about the rules of the improved version of rock, paper, scissors, check this [link](http://www.samkass.com/theories/RPSSL.html). \n",
    "\n",
    "In addition, you will also need to improve how the game interacts with the player: the number of rounds to play, which must be an odd number, will be requested to the user until a valid number is entered. Define a new function to make that request.\n",
    "\n",
    "**Hint**: Try to reuse the code that you already coded in the previous challenge. If your code is efficient, this bonus will only consist of simple modifications to the original game."
   ]
  },
  {
   "cell_type": "code",
   "execution_count": null,
   "metadata": {},
   "outputs": [],
   "source": []
  }
 ],
 "metadata": {
  "kernelspec": {
   "display_name": "Python 3",
   "language": "python",
   "name": "python3"
  },
  "language_info": {
   "codemirror_mode": {
    "name": "ipython",
    "version": 3
   },
   "file_extension": ".py",
   "mimetype": "text/x-python",
   "name": "python",
   "nbconvert_exporter": "python",
   "pygments_lexer": "ipython3",
   "version": "3.8.6"
  }
 },
 "nbformat": 4,
 "nbformat_minor": 2
}
